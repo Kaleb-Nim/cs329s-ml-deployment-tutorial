{
 "cells": [
  {
   "cell_type": "markdown",
   "metadata": {},
   "source": [
    "# Project Initializaion\n",
    "\n"
   ]
  },
  {
   "cell_type": "markdown",
   "metadata": {},
   "source": [
    "## Import libaries"
   ]
  },
  {
   "cell_type": "code",
   "execution_count": null,
   "metadata": {},
   "outputs": [],
   "source": [
    "# Utility\n",
    "from os import path\n",
    "from os.path import exists # We use this to check if a file exists\n",
    "from tqdm import tqdm # Use this to track how much time each iter of a for loop takes\n",
    "import warnings # Statsmodels likes to throw out warnings. Some of them are important, some are not\n",
    "from statsmodels.tools.sm_exceptions import *\n",
    "from collections import defaultdict \n",
    "from statsmodels.api import load # load serialized models\n",
    "from joblib import Parallel, delayed # Parallelise our grid search\n",
    "# Statistical Analysis\n",
    "## General\n",
    "import numpy as np\n",
    "import pandas as pd\n",
    "from scipy import stats\n",
    "import statsmodels.api as sm\n",
    "\n",
    "## Time Series\n",
    "from statsmodels.tsa.seasonal import STL, seasonal_decompose\n",
    "from statsmodels.tsa.stattools import adfuller, kpss\n",
    "from statsmodels.tsa.statespace.tools import diff\n",
    "from statsmodels.tsa.arima.model import ARIMA\n",
    "from statsmodels.tsa.statespace.sarimax import SARIMAX\n",
    "from statsmodels.tsa.statespace.varmax import VARMAX\n",
    "from statsmodels.tsa.holtwinters import ExponentialSmoothing, Holt\n",
    "\n",
    "## Model Validation\n",
    "from sklearn.model_selection import TimeSeriesSplit\n",
    "from sklearn.metrics import mean_squared_error\n",
    "\n",
    "\n",
    "# Graphical Plots\n",
    "import matplotlib.pyplot as plt\n",
    "import matplotlib.gridspec as gridspec\n",
    "import seaborn as sns\n",
    "import plotly.express as px\n",
    "import plotly.graph_objects as go\n",
    "from statsmodels.graphics.tsaplots import plot_acf, plot_pacf\n"
   ]
  },
  {
   "cell_type": "markdown",
   "metadata": {},
   "source": []
  }
 ],
 "metadata": {
  "kernelspec": {
   "display_name": "Python 3.8.9 64-bit",
   "language": "python",
   "name": "python3"
  },
  "language_info": {
   "name": "python",
   "version": "3.8.9"
  },
  "orig_nbformat": 4,
  "vscode": {
   "interpreter": {
    "hash": "afd34481572197eca6222b19c661b82c5556ad3349ca4f88bd4158275bcaf20a"
   }
  }
 },
 "nbformat": 4,
 "nbformat_minor": 2
}
